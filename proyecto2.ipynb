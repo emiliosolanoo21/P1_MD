{
 "cells": [
  {
   "cell_type": "code",
   "execution_count": 1,
   "metadata": {},
   "outputs": [],
   "source": [
    "import pandas as pd\n",
    "import matplotlib.pyplot as plt\n",
    "import seaborn as sns\n",
    "import numpy as np\n",
    "\n",
    "from sklearn.cluster import KMeans"
   ]
  },
  {
   "cell_type": "code",
   "execution_count": null,
   "metadata": {},
   "outputs": [],
   "source": [
    "# Especificar los tipos de datos para cada columna\n",
    "dtype_dict = {\n",
    "    \"Country Name\": str,\n",
    "    \"Country Code\": str,\n",
    "    \"Indicator Name\": str,\n",
    "    \"Indicator Code\": str\n",
    "}\n",
    "\n",
    "# Leer el archivo CSV con los tipos de datos especificados\n",
    "df = pd.read_csv(\"WDIData.csv\", sep=\",\", decimal=\",\", dtype=dtype_dict)\n",
    "\n",
    "# Convertir las columnas numéricas a tipo float\n",
    "columnas_numericas = df.columns[4:]  # Seleccionar todas las columnas a partir de la quinta\n",
    "df[columnas_numericas] = df[columnas_numericas].astype(float)\n",
    "\n",
    "# Verificar el tipo de datos resultante\n",
    "print(df.dtypes)"
   ]
  },
  {
   "cell_type": "code",
   "execution_count": null,
   "metadata": {},
   "outputs": [],
   "source": [
    "df.info()"
   ]
  },
  {
   "cell_type": "code",
   "execution_count": null,
   "metadata": {},
   "outputs": [],
   "source": [
    "df.head()"
   ]
  },
  {
   "cell_type": "code",
   "execution_count": null,
   "metadata": {},
   "outputs": [],
   "source": [
    "df.isnull().sum()"
   ]
  },
  {
   "cell_type": "code",
   "execution_count": null,
   "metadata": {},
   "outputs": [],
   "source": [
    "df.shape"
   ]
  },
  {
   "cell_type": "code",
   "execution_count": null,
   "metadata": {},
   "outputs": [],
   "source": [
    "# Eliminar columna que no necesitamos, la ultima\n",
    "df.drop(df.columns[-1], axis=1, inplace=True)\n",
    "df.head(3)"
   ]
  },
  {
   "cell_type": "code",
   "execution_count": null,
   "metadata": {},
   "outputs": [],
   "source": [
    "#Intercambiar NA por -1\n",
    "df.fillna(-1, inplace= True)\n",
    "df.head(3)"
   ]
  },
  {
   "cell_type": "code",
   "execution_count": null,
   "metadata": {},
   "outputs": [],
   "source": [
    "guatemala_df = df.loc[df['Country Name'] == 'Guatemala']\n",
    "guatemala_df"
   ]
  },
  {
   "cell_type": "code",
   "execution_count": null,
   "metadata": {},
   "outputs": [],
   "source": [
    "# Calcular la proporción de valores -1 en cada columna numérica\n",
    "proporcion_valores_negativos = (guatemala_df.drop(columns=['Country Name', 'Country Code', 'Indicator Name', 'Indicator Code']) == -1).mean()\n",
    "\n",
    "# Definir un umbral para decidir si eliminar la columna\n",
    "umbral = 0.5  # Por ejemplo, si más del 50% de los valores son -1, eliminaremos la columna\n",
    "\n",
    "# Filtrar las columnas que superan el umbral\n",
    "columnas_a_eliminar = proporcion_valores_negativos[proporcion_valores_negativos > umbral].index\n",
    "\n",
    "# Eliminar las columnas del DataFrame original\n",
    "df_filtrado = guatemala_df.drop(columns=columnas_a_eliminar)\n",
    "df_filtrado"
   ]
  },
  {
   "cell_type": "code",
   "execution_count": null,
   "metadata": {},
   "outputs": [],
   "source": [
    "df_filtrado.info()"
   ]
  },
  {
   "cell_type": "code",
   "execution_count": null,
   "metadata": {},
   "outputs": [],
   "source": [
    "df_filtrado = df_filtrado.drop(columns=[ 'Country Name','Country Code', 'Indicator Code'])\n",
    "\n",
    "\n",
    "df_filtrado "
   ]
  },
  {
   "cell_type": "code",
   "execution_count": null,
   "metadata": {},
   "outputs": [],
   "source": [
    "# Exportar DataFrame a CSV\n",
    "df_filtrado.to_csv('statsGuatemala.csv', index=False)\n"
   ]
  },
  {
   "cell_type": "code",
   "execution_count": null,
   "metadata": {},
   "outputs": [],
   "source": [
    "# Usamos melt para convertir los años en una sola columna\n",
    "df_melted = pd.melt(df_filtrado, id_vars=['Indicator Name'], var_name='Year', value_name='Value')\n",
    "\n",
    "# pivot_table para transformar los valores de \"Indicator Name\" en columnas\n",
    "df_pivoted = df_melted.pivot_table(index='Year', columns='Indicator Name', values='Value', aggfunc='mean').reset_index()\n",
    "\n",
    "# Opcionalmente, puedes renombrar las columnas si lo deseas\n",
    "df_pivoted.columns.name = None\n",
    "\n",
    "# Mostrar el DataFrame resultante\n",
    "# print(df_pivoted)\n",
    "\n",
    "df_pivoted.to_csv('DataGT.csv', index=False)"
   ]
  },
  {
   "cell_type": "code",
   "execution_count": null,
   "metadata": {},
   "outputs": [],
   "source": [
    "df_final = pd.read_csv(\"DataGT.csv\")\n",
    "df_final"
   ]
  },
  {
   "cell_type": "code",
   "execution_count": null,
   "metadata": {},
   "outputs": [],
   "source": []
  },
  {
   "cell_type": "code",
   "execution_count": null,
   "metadata": {},
   "outputs": [],
   "source": []
  },
  {
   "cell_type": "code",
   "execution_count": null,
   "metadata": {},
   "outputs": [],
   "source": []
  },
  {
   "cell_type": "code",
   "execution_count": null,
   "metadata": {},
   "outputs": [],
   "source": []
  }
 ],
 "metadata": {
  "kernelspec": {
   "display_name": "Python 3 (ipykernel)",
   "language": "python",
   "name": "python3"
  },
  "language_info": {
   "codemirror_mode": {
    "name": "ipython",
    "version": 3
   },
   "file_extension": ".py",
   "mimetype": "text/x-python",
   "name": "python",
   "nbconvert_exporter": "python",
   "pygments_lexer": "ipython3",
   "version": "3.12.3"
  }
 },
 "nbformat": 4,
 "nbformat_minor": 4
}

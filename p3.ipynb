{
 "cells": [
  {
   "cell_type": "code",
   "execution_count": 1,
   "id": "4b7a38e5-6b81-4c74-ba71-00cec52d47ab",
   "metadata": {},
   "outputs": [],
   "source": [
    "import pandas as pd\n",
    "from sklearn.model_selection import train_test_split, GridSearchCV\n",
    "from sklearn.preprocessing import StandardScaler\n",
    "from sklearn.svm import SVR\n",
    "from sklearn.metrics import mean_squared_error, mean_absolute_error, r2_score\n",
    "from sklearn.feature_selection import SelectKBest, f_regression"
   ]
  },
  {
   "cell_type": "code",
   "execution_count": 2,
   "id": "16e47177-cd12-47b6-bd85-9b8612170938",
   "metadata": {},
   "outputs": [],
   "source": [
    "df = pd.read_csv(\"DataGT.csv\")"
   ]
  },
  {
   "cell_type": "code",
   "execution_count": 3,
   "id": "762a3abb-8194-4a1e-9bd8-f73255b2fc40",
   "metadata": {},
   "outputs": [],
   "source": [
    "# Separar variables predictoras (X) y la variable objetivo (y)\n",
    "# Vulnerable employment, total (% of total employment) (modeled ILO estimate)\n",
    "\n",
    "X = df.drop('Birth rate, crude (per 1,000 people)', axis=1)\n",
    "y = df['Birth rate, crude (per 1,000 people)']"
   ]
  },
  {
   "cell_type": "code",
   "execution_count": 4,
   "id": "38ffd943-8288-4a42-9ce4-36cf67e0b932",
   "metadata": {},
   "outputs": [
    {
     "name": "stdout",
     "output_type": "stream",
     "text": [
      "Error cuadrático medio: 14.633673375721969\n",
      "Predicciones: [28.28113322 28.02492788 29.63804303 26.13373067 29.22323983 28.10212325]\n",
      "Valores reales: [32.249 28.43  31.397 25.541 37.349 29.658]\n"
     ]
    }
   ],
   "source": [
    "\n",
    "\n",
    "# Dividir los datos en conjuntos de entrenamiento y prueba\n",
    "X_train, X_test, y_train, y_test = train_test_split(X, y, test_size=0.2, random_state=42)\n",
    "\n",
    "# Escalar las características\n",
    "scaler = StandardScaler()\n",
    "X_train_scaled = scaler.fit_transform(X_train)\n",
    "X_test_scaled = scaler.transform(X_test)\n",
    "\n",
    "# Crear y entrenar el modelo SVM\n",
    "svm_model = SVR(kernel='rbf')\n",
    "svm_model.fit(X_train_scaled, y_train)\n",
    "\n",
    "# Realizar predicciones\n",
    "y_pred = svm_model.predict(X_test_scaled)\n",
    "\n",
    "# Evaluar el modelo\n",
    "mse = mean_squared_error(y_test, y_pred)\n",
    "print(f'Error cuadrático medio: {mse}')\n",
    "\n",
    "# Mostrar predicciones\n",
    "print(f'Predicciones: {y_pred}')\n",
    "print(f'Valores reales: {y_test.values}')"
   ]
  },
  {
   "cell_type": "code",
   "execution_count": 5,
   "id": "644dbd35-a3bd-4d79-821d-ca2d37acc528",
   "metadata": {},
   "outputs": [
    {
     "name": "stdout",
     "output_type": "stream",
     "text": [
      "Mean Squared Error (MSE): 14.633673375721969\n",
      "Mean Absolute Error (MAE): 2.734377243672538\n",
      "R-squared (R²): -0.09864621387114791\n"
     ]
    }
   ],
   "source": [
    "# Evaluar el modelo con métricas de regresión\n",
    "mse = mean_squared_error(y_test, y_pred)\n",
    "mae = mean_absolute_error(y_test, y_pred)\n",
    "r2 = r2_score(y_test, y_pred)\n",
    "\n",
    "print(f'Mean Squared Error (MSE): {mse}')\n",
    "print(f'Mean Absolute Error (MAE): {mae}')\n",
    "print(f'R-squared (R²): {r2}')"
   ]
  },
  {
   "cell_type": "code",
   "execution_count": 6,
   "id": "e8d01a2e-ffd6-4250-90e4-dfac7f357523",
   "metadata": {},
   "outputs": [
    {
     "name": "stdout",
     "output_type": "stream",
     "text": [
      "Error cuadrático medio (MSE): 0.6129241093441957\n",
      "Error absoluto medio (MAE): 0.5980433262868162\n",
      "Coeficiente de determinación (R²): 0.9539837513909166\n",
      "Mejores hiperparámetros: {'C': 10, 'gamma': 'scale', 'kernel': 'sigmoid'}\n",
      "Predicciones: [33.77670638 28.59361022 31.25151909 24.90619295 36.42373549 29.84939089]\n",
      "Valores reales: [32.249 28.43  31.397 25.541 37.349 29.658]\n"
     ]
    }
   ],
   "source": [
    "# Definir el modelo SVM\n",
    "svm_model = SVR()\n",
    "\n",
    "# Definir la rejilla de hiperparámetros a probar\n",
    "param_grid = {\n",
    "    'kernel': ['linear', 'poly', 'rbf', 'sigmoid'],\n",
    "    'C': [0.1, 1, 10, 100],\n",
    "    'gamma': ['scale', 'auto']\n",
    "}\n",
    "\n",
    "# Configurar GridSearchCV\n",
    "grid_search = GridSearchCV(svm_model, param_grid, cv=5, scoring='neg_mean_squared_error', n_jobs=-1)\n",
    "\n",
    "# Entrenar GridSearchCV\n",
    "grid_search.fit(X_train_scaled, y_train)\n",
    "\n",
    "# Obtener el mejor modelo\n",
    "best_model = grid_search.best_estimator_\n",
    "\n",
    "# Realizar predicciones con el mejor modelo\n",
    "y_pred = best_model.predict(X_test_scaled)\n",
    "\n",
    "# Evaluar el mejor modelo con métricas de regresión\n",
    "mse = mean_squared_error(y_test, y_pred)\n",
    "mae = mean_absolute_error(y_test, y_pred)\n",
    "r2 = r2_score(y_test, y_pred)\n",
    "\n",
    "print(f'Error cuadrático medio (MSE): {mse}')\n",
    "print(f'Error absoluto medio (MAE): {mae}')\n",
    "print(f'Coeficiente de determinación (R²): {r2}')\n",
    "print(f'Mejores hiperparámetros: {grid_search.best_params_}')\n",
    "\n",
    "# Mostrar predicciones\n",
    "print(f'Predicciones: {y_pred}')\n",
    "print(f'Valores reales: {y_test.values}')"
   ]
  },
  {
   "cell_type": "code",
   "execution_count": null,
   "id": "cef3d1be-5d36-47db-818a-b8272f6c2bf3",
   "metadata": {},
   "outputs": [],
   "source": []
  }
 ],
 "metadata": {
  "kernelspec": {
   "display_name": "Python 3 (ipykernel)",
   "language": "python",
   "name": "python3"
  },
  "language_info": {
   "codemirror_mode": {
    "name": "ipython",
    "version": 3
   },
   "file_extension": ".py",
   "mimetype": "text/x-python",
   "name": "python",
   "nbconvert_exporter": "python",
   "pygments_lexer": "ipython3",
   "version": "3.10.12"
  }
 },
 "nbformat": 4,
 "nbformat_minor": 5
}
